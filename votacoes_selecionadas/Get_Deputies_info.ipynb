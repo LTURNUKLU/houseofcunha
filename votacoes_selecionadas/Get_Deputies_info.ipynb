{
 "cells": [
  {
   "cell_type": "code",
   "execution_count": 1,
   "metadata": {
    "collapsed": true
   },
   "outputs": [],
   "source": [
    "import pandas as pd\n",
    "import requests\n"
   ]
  },
  {
   "cell_type": "code",
   "execution_count": 2,
   "metadata": {
    "collapsed": true
   },
   "outputs": [],
   "source": [
    "deputies = pd.read_csv(\"data/deputados.csv\")\n",
    "dep_ids = list(deputies.id_dep)"
   ]
  },
  {
   "cell_type": "code",
   "execution_count": 3,
   "metadata": {
    "collapsed": true
   },
   "outputs": [],
   "source": [
    "url = \"https://dadosabertos.camara.leg.br/api/v2/deputados?{}&idLegislatura=55&itens={}\"\n",
    "headers = {'accept': 'application/json'}"
   ]
  },
  {
   "cell_type": "code",
   "execution_count": 4,
   "metadata": {
    "collapsed": false
   },
   "outputs": [],
   "source": [
    "def get_deputies_detail(dep_ids, id_name,bulk,to_log):\n",
    "    all_response = []\n",
    "    no_answer = set()\n",
    "    for i in range(0, len(dep_ids), bulk):\n",
    "        if to_log:\n",
    "            print(i, len(dep_ids))\n",
    "        selected_dep_ids = dep_ids[i:i+bulk]\n",
    "        ids_string = \"&\".join([\"{}={}\".format(id_name, id) for id in selected_dep_ids])\n",
    "        r = requests.get(url.format(ids_string, bulk), headers=headers)\n",
    "        response = r.json()\n",
    "        all_response += response['dados']\n",
    "        if len(response['dados']) != len(selected_dep_ids):\n",
    "            no_answer |= (set(selected_dep_ids) - set([r['id'] for r in response['dados']]))\n",
    "    return all_response, list(no_answer)\n",
    "\n",
    "def get_by_name(names):\n",
    "    all_response = []\n",
    "    no_answer = set()\n",
    "    for cur_name in names:\n",
    "        ids_string = \"nome={}\".format(cur_name)\n",
    "        r = requests.get(url.format(ids_string, bulk), headers=headers)\n",
    "        response = r.json()\n",
    "        all_response += response['dados']\n",
    "        if len(response['dados']) == 0:\n",
    "            no_answer.add(cur_name)\n",
    "    return all_response, list(no_answer)"
   ]
  },
  {
   "cell_type": "code",
   "execution_count": 5,
   "metadata": {
    "collapsed": false
   },
   "outputs": [],
   "source": [
    "all_response, no_answer = get_deputies_detail(dep_ids, \"id\", 20, False)"
   ]
  },
  {
   "cell_type": "code",
   "execution_count": 6,
   "metadata": {
    "collapsed": false
   },
   "outputs": [
    {
     "data": {
      "text/plain": [
       "[]"
      ]
     },
     "execution_count": 6,
     "metadata": {},
     "output_type": "execute_result"
    }
   ],
   "source": [
    "no_answer"
   ]
  },
  {
   "cell_type": "code",
   "execution_count": 7,
   "metadata": {
    "collapsed": false
   },
   "outputs": [],
   "source": [
    "names = list(deputies[deputies.id_dep.isin(no_answer)].nome)\n",
    "assert len(names) == len(no_answer)"
   ]
  },
  {
   "cell_type": "code",
   "execution_count": 8,
   "metadata": {
    "collapsed": false
   },
   "outputs": [],
   "source": [
    "all_response_names, no_answer_names = get_by_name(names)"
   ]
  },
  {
   "cell_type": "code",
   "execution_count": 9,
   "metadata": {
    "collapsed": true
   },
   "outputs": [],
   "source": [
    "assert len(no_answer_names) == 0\n",
    "assert len(all_response + all_response_names) == len(dep_ids)"
   ]
  },
  {
   "cell_type": "code",
   "execution_count": 18,
   "metadata": {
    "collapsed": false
   },
   "outputs": [],
   "source": [
    "data_by_api = pd.DataFrame(all_response + all_response_names)\n",
    "\n",
    "# .to_csv(\"data/deputados_info_by_api.csv\",index=False, encoding=\"utf8\")"
   ]
  },
  {
   "cell_type": "code",
   "execution_count": 24,
   "metadata": {
    "collapsed": false
   },
   "outputs": [],
   "source": [
    "change = {\"pode\": \"podemos\", \"sd\": \"solidaried\"}\n",
    "data_by_api.siglaPartido = data_by_api.siglaPartido.apply(lambda x: x.lower())\n",
    "data_by_api.siglaPartido = data_by_api.siglaPartido.apply(lambda x: change.get(x, x))\n",
    "data_by_api.to_csv(\"data/deputados_info_by_api.csv\",index=False, encoding=\"utf8\")"
   ]
  },
  {
   "cell_type": "code",
   "execution_count": 29,
   "metadata": {
    "collapsed": false
   },
   "outputs": [
    {
     "data": {
      "text/html": [
       "<div>\n",
       "<style scoped>\n",
       "    .dataframe tbody tr th:only-of-type {\n",
       "        vertical-align: middle;\n",
       "    }\n",
       "\n",
       "    .dataframe tbody tr th {\n",
       "        vertical-align: top;\n",
       "    }\n",
       "\n",
       "    .dataframe thead th {\n",
       "        text-align: right;\n",
       "    }\n",
       "</style>\n",
       "<table border=\"1\" class=\"dataframe\">\n",
       "  <thead>\n",
       "    <tr style=\"text-align: right;\">\n",
       "      <th></th>\n",
       "      <th>id</th>\n",
       "      <th>idLegislatura</th>\n",
       "      <th>nome</th>\n",
       "      <th>siglaPartido</th>\n",
       "      <th>siglaUf</th>\n",
       "      <th>uri</th>\n",
       "      <th>uriPartido</th>\n",
       "      <th>urlFoto</th>\n",
       "    </tr>\n",
       "  </thead>\n",
       "  <tbody>\n",
       "    <tr>\n",
       "      <th>558</th>\n",
       "      <td>178863</td>\n",
       "      <td>55</td>\n",
       "      <td>ULDURICO JUNIOR</td>\n",
       "      <td>ppl</td>\n",
       "      <td>BA</td>\n",
       "      <td>https://dadosabertos.camara.leg.br/api/v2/depu...</td>\n",
       "      <td>https://dadosabertos.camara.leg.br/api/v2/part...</td>\n",
       "      <td>http://www.camara.leg.br/internet/deputado/ban...</td>\n",
       "    </tr>\n",
       "  </tbody>\n",
       "</table>\n",
       "</div>"
      ],
      "text/plain": [
       "         id  idLegislatura             nome siglaPartido siglaUf  \\\n",
       "558  178863             55  ULDURICO JUNIOR          ppl      BA   \n",
       "\n",
       "                                                   uri  \\\n",
       "558  https://dadosabertos.camara.leg.br/api/v2/depu...   \n",
       "\n",
       "                                            uriPartido  \\\n",
       "558  https://dadosabertos.camara.leg.br/api/v2/part...   \n",
       "\n",
       "                                               urlFoto  \n",
       "558  http://www.camara.leg.br/internet/deputado/ban...  "
      ]
     },
     "execution_count": 29,
     "metadata": {},
     "output_type": "execute_result"
    }
   ],
   "source": [
    "data_by_api[data_by_api.siglaPartido == 'ppl']"
   ]
  },
  {
   "cell_type": "code",
   "execution_count": null,
   "metadata": {
    "collapsed": true
   },
   "outputs": [],
   "source": []
  }
 ],
 "metadata": {
  "kernelspec": {
   "display_name": "Python 2",
   "language": "python",
   "name": "python2"
  },
  "language_info": {
   "codemirror_mode": {
    "name": "ipython",
    "version": 2
   },
   "file_extension": ".py",
   "mimetype": "text/x-python",
   "name": "python",
   "nbconvert_exporter": "python",
   "pygments_lexer": "ipython2",
   "version": "2.7.12"
  }
 },
 "nbformat": 4,
 "nbformat_minor": 1
}

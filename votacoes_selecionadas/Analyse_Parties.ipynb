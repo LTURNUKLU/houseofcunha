{
 "cells": [
  {
   "cell_type": "code",
   "execution_count": 1,
   "metadata": {
    "collapsed": false
   },
   "outputs": [],
   "source": [
    "import json\n",
    "import pandas as pd"
   ]
  },
  {
   "cell_type": "code",
   "execution_count": 2,
   "metadata": {
    "collapsed": false
   },
   "outputs": [],
   "source": [
    "partidos_votos = json.load(open(\"data/partidos_votos_total.json\"))\n"
   ]
  },
  {
   "cell_type": "code",
   "execution_count": 3,
   "metadata": {
    "collapsed": false
   },
   "outputs": [],
   "source": [
    "def json_to_df(votos, column_name):\n",
    "    all_props = []\n",
    "    for row in votos:\n",
    "        party_name = row[\"nome\"]\n",
    "        party_id = row[\"id\"]\n",
    "        propositions = row['temas']\n",
    "        for prop in propositions:\n",
    "            dict_prop = {column_name:party_name}\n",
    "            dict_prop.update(prop)\n",
    "            all_props.append(dict_prop)\n",
    "    all_props = pd.DataFrame(all_props)\n",
    "    return all_props"
   ]
  },
  {
   "cell_type": "code",
   "execution_count": 4,
   "metadata": {
    "collapsed": false
   },
   "outputs": [
    {
     "ename": "KeyError",
     "evalue": "'id'",
     "output_type": "error",
     "traceback": [
      "\u001b[0;31m---------------------------------------------------------------------------\u001b[0m",
      "\u001b[0;31mKeyError\u001b[0m                                  Traceback (most recent call last)",
      "\u001b[0;32m<ipython-input-4-a70eb6f95124>\u001b[0m in \u001b[0;36m<module>\u001b[0;34m()\u001b[0m\n\u001b[0;32m----> 1\u001b[0;31m \u001b[0mall_props\u001b[0m \u001b[0;34m=\u001b[0m \u001b[0mjson_to_df\u001b[0m\u001b[0;34m(\u001b[0m\u001b[0mpartidos_votos\u001b[0m\u001b[0;34m,\u001b[0m \u001b[0;34m\"party_name\"\u001b[0m\u001b[0;34m)\u001b[0m\u001b[0;34m\u001b[0m\u001b[0m\n\u001b[0m\u001b[1;32m      2\u001b[0m \u001b[0mprops_by_party\u001b[0m \u001b[0;34m=\u001b[0m \u001b[0mall_props\u001b[0m\u001b[0;34m[\u001b[0m\u001b[0;34m[\u001b[0m\u001b[0;34m\"party_name\"\u001b[0m\u001b[0;34m,\u001b[0m \u001b[0;34m\"tema\"\u001b[0m\u001b[0;34m,\u001b[0m \u001b[0;34m\"value\"\u001b[0m\u001b[0;34m]\u001b[0m\u001b[0;34m]\u001b[0m\u001b[0;34m.\u001b[0m\u001b[0mpivot\u001b[0m\u001b[0;34m(\u001b[0m\u001b[0mindex\u001b[0m\u001b[0;34m=\u001b[0m\u001b[0;34m\"party_name\"\u001b[0m\u001b[0;34m,\u001b[0m \u001b[0mcolumns\u001b[0m\u001b[0;34m=\u001b[0m\u001b[0;34m'tema'\u001b[0m\u001b[0;34m,\u001b[0m \u001b[0mvalues\u001b[0m\u001b[0;34m=\u001b[0m\u001b[0;34m'value'\u001b[0m\u001b[0;34m)\u001b[0m\u001b[0;34m.\u001b[0m\u001b[0mto_dict\u001b[0m\u001b[0;34m(\u001b[0m\u001b[0;34m'index'\u001b[0m\u001b[0;34m)\u001b[0m\u001b[0;34m\u001b[0m\u001b[0m\n",
      "\u001b[0;32m<ipython-input-3-44fba9aca239>\u001b[0m in \u001b[0;36mjson_to_df\u001b[0;34m(votos, column_name)\u001b[0m\n\u001b[1;32m      3\u001b[0m     \u001b[0;32mfor\u001b[0m \u001b[0mrow\u001b[0m \u001b[0;32min\u001b[0m \u001b[0mvotos\u001b[0m\u001b[0;34m:\u001b[0m\u001b[0;34m\u001b[0m\u001b[0m\n\u001b[1;32m      4\u001b[0m         \u001b[0mparty_name\u001b[0m \u001b[0;34m=\u001b[0m \u001b[0mrow\u001b[0m\u001b[0;34m[\u001b[0m\u001b[0;34m\"nome\"\u001b[0m\u001b[0;34m]\u001b[0m\u001b[0;34m\u001b[0m\u001b[0m\n\u001b[0;32m----> 5\u001b[0;31m         \u001b[0mparty_id\u001b[0m \u001b[0;34m=\u001b[0m \u001b[0mrow\u001b[0m\u001b[0;34m[\u001b[0m\u001b[0;34m\"id\"\u001b[0m\u001b[0;34m]\u001b[0m\u001b[0;34m\u001b[0m\u001b[0m\n\u001b[0m\u001b[1;32m      6\u001b[0m         \u001b[0mpropositions\u001b[0m \u001b[0;34m=\u001b[0m \u001b[0mrow\u001b[0m\u001b[0;34m[\u001b[0m\u001b[0;34m'temas'\u001b[0m\u001b[0;34m]\u001b[0m\u001b[0;34m\u001b[0m\u001b[0m\n\u001b[1;32m      7\u001b[0m         \u001b[0;32mfor\u001b[0m \u001b[0mprop\u001b[0m \u001b[0;32min\u001b[0m \u001b[0mpropositions\u001b[0m\u001b[0;34m:\u001b[0m\u001b[0;34m\u001b[0m\u001b[0m\n",
      "\u001b[0;31mKeyError\u001b[0m: 'id'"
     ]
    }
   ],
   "source": [
    "all_props = json_to_df(partidos_votos, \"party_name\")\n",
    "props_by_party = all_props[[\"party_name\", \"tema\", \"value\"]].pivot(index=\"party_name\", columns='tema', values='value').to_dict('index')"
   ]
  },
  {
   "cell_type": "code",
   "execution_count": 122,
   "metadata": {
    "collapsed": false
   },
   "outputs": [],
   "source": [
    "no_vote = \"-10\"\n",
    "def calc_sim(propsA, propsB):\n",
    "    equals = 0\n",
    "    to_sum = 0\n",
    "    for prop, vA in propsA.iteritems():\n",
    "        if vA == no_vote:\n",
    "            continue\n",
    "        vB = propsB[prop]\n",
    "        if vB == no_vote:\n",
    "            continue\n",
    "        if vA == vB:\n",
    "            equals +=1\n",
    "        to_sum+=1\n",
    "    if to_sum == 0:\n",
    "        return None, to_sum\n",
    "    else:\n",
    "        return equals / float(to_sum), to_sum\n",
    "assert calc_sim({\"a\": 1, \"b\": 0}, {\"a\": 1, \"b\": 0}) == (1, 2)\n",
    "assert calc_sim({\"a\": 1, \"b\": 0}, {\"a\": 1, \"b\": 1}) == (.5, 2)\n",
    "assert calc_sim({\"a\": 1, \"b\": 0}, {\"a\": 0, \"b\": 1}) == (0.0, 2)\n",
    "assert calc_sim({\"a\": 1, \"b\": 0}, {\"a\": 1, \"b\": no_vote}) == (1.0, 1)\n",
    "assert calc_sim({\"a\": 1, \"b\": 0}, {\"a\": no_vote, \"b\": no_vote}) == (None, 0)"
   ]
  },
  {
   "cell_type": "code",
   "execution_count": 123,
   "metadata": {
    "collapsed": false
   },
   "outputs": [],
   "source": [
    "all_sim = []\n",
    "parties_already_calculates = set()\n",
    "\n",
    "def get_key(partyA, partyB):\n",
    "    return \"{}_{}\".format(partyA, partyB)\n",
    "\n",
    "for partyA, propsA in props_by_party.iteritems():\n",
    "    for partyB, propsB in props_by_party.iteritems():\n",
    "        if get_key(partyA, partyB) in parties_already_calculates or \\\n",
    "            get_key(partyB, partyA) in parties_already_calculates:\n",
    "            continue\n",
    "\n",
    "        if partyA == partyB:\n",
    "            sim, used = 1,1\n",
    "        else:\n",
    "            sim, used = calc_sim(propsA, propsB)\n",
    "        \n",
    "        all_sim.append({\"source\": partyA, \"target\": partyB, \"value\": sim, \"used\": used})\n",
    "        if partyA != partyB:\n",
    "            all_sim.append({\"target\": partyA, \"source\": partyB, \"value\": sim, \"used\": used})\n",
    "        parties_already_calculates.add(get_key(partyA, partyB))\n",
    "        parties_already_calculates.add(get_key(partyB, partyA))"
   ]
  },
  {
   "cell_type": "code",
   "execution_count": 130,
   "metadata": {
    "collapsed": false
   },
   "outputs": [
    {
     "data": {
      "text/html": [
       "<div>\n",
       "<style scoped>\n",
       "    .dataframe tbody tr th:only-of-type {\n",
       "        vertical-align: middle;\n",
       "    }\n",
       "\n",
       "    .dataframe tbody tr th {\n",
       "        vertical-align: top;\n",
       "    }\n",
       "\n",
       "    .dataframe thead th {\n",
       "        text-align: right;\n",
       "    }\n",
       "</style>\n",
       "<table border=\"1\" class=\"dataframe\">\n",
       "  <thead>\n",
       "    <tr style=\"text-align: right;\">\n",
       "      <th></th>\n",
       "      <th>source</th>\n",
       "      <th>target</th>\n",
       "      <th>used</th>\n",
       "      <th>value</th>\n",
       "    </tr>\n",
       "  </thead>\n",
       "  <tbody>\n",
       "  </tbody>\n",
       "</table>\n",
       "</div>"
      ],
      "text/plain": [
       "Empty DataFrame\n",
       "Columns: [source, target, used, value]\n",
       "Index: []"
      ]
     },
     "execution_count": 130,
     "metadata": {},
     "output_type": "execute_result"
    }
   ],
   "source": [
    "all_sim_df[all_sim_df.source == \"pcb\"]"
   ]
  },
  {
   "cell_type": "code",
   "execution_count": 127,
   "metadata": {
    "collapsed": false
   },
   "outputs": [
    {
     "data": {
      "text/html": [
       "<div>\n",
       "<style scoped>\n",
       "    .dataframe tbody tr th:only-of-type {\n",
       "        vertical-align: middle;\n",
       "    }\n",
       "\n",
       "    .dataframe tbody tr th {\n",
       "        vertical-align: top;\n",
       "    }\n",
       "\n",
       "    .dataframe thead th {\n",
       "        text-align: right;\n",
       "    }\n",
       "</style>\n",
       "<table border=\"1\" class=\"dataframe\">\n",
       "  <thead>\n",
       "    <tr style=\"text-align: right;\">\n",
       "      <th></th>\n",
       "      <th>source</th>\n",
       "      <th>target</th>\n",
       "      <th>used</th>\n",
       "      <th>value</th>\n",
       "    </tr>\n",
       "  </thead>\n",
       "  <tbody>\n",
       "    <tr>\n",
       "      <th>700</th>\n",
       "      <td>pros</td>\n",
       "      <td>pros</td>\n",
       "      <td>1</td>\n",
       "      <td>1.000000</td>\n",
       "    </tr>\n",
       "    <tr>\n",
       "      <th>725</th>\n",
       "      <td>pros</td>\n",
       "      <td>avante</td>\n",
       "      <td>1</td>\n",
       "      <td>1.000000</td>\n",
       "    </tr>\n",
       "    <tr>\n",
       "      <th>148</th>\n",
       "      <td>pros</td>\n",
       "      <td>prb</td>\n",
       "      <td>24</td>\n",
       "      <td>0.666667</td>\n",
       "    </tr>\n",
       "    <tr>\n",
       "      <th>713</th>\n",
       "      <td>pros</td>\n",
       "      <td>psl</td>\n",
       "      <td>24</td>\n",
       "      <td>0.666667</td>\n",
       "    </tr>\n",
       "    <tr>\n",
       "      <th>711</th>\n",
       "      <td>pros</td>\n",
       "      <td>ptdob</td>\n",
       "      <td>23</td>\n",
       "      <td>0.652174</td>\n",
       "    </tr>\n",
       "    <tr>\n",
       "      <th>364</th>\n",
       "      <td>pros</td>\n",
       "      <td>prp</td>\n",
       "      <td>20</td>\n",
       "      <td>0.650000</td>\n",
       "    </tr>\n",
       "    <tr>\n",
       "      <th>28</th>\n",
       "      <td>pros</td>\n",
       "      <td>ptn</td>\n",
       "      <td>22</td>\n",
       "      <td>0.636364</td>\n",
       "    </tr>\n",
       "    <tr>\n",
       "      <th>205</th>\n",
       "      <td>pros</td>\n",
       "      <td>ptc</td>\n",
       "      <td>19</td>\n",
       "      <td>0.631579</td>\n",
       "    </tr>\n",
       "    <tr>\n",
       "      <th>460</th>\n",
       "      <td>pros</td>\n",
       "      <td>pmn</td>\n",
       "      <td>19</td>\n",
       "      <td>0.631579</td>\n",
       "    </tr>\n",
       "    <tr>\n",
       "      <th>707</th>\n",
       "      <td>pros</td>\n",
       "      <td>psdc</td>\n",
       "      <td>19</td>\n",
       "      <td>0.631579</td>\n",
       "    </tr>\n",
       "    <tr>\n",
       "      <th>719</th>\n",
       "      <td>pros</td>\n",
       "      <td>psd</td>\n",
       "      <td>24</td>\n",
       "      <td>0.625000</td>\n",
       "    </tr>\n",
       "    <tr>\n",
       "      <th>548</th>\n",
       "      <td>pros</td>\n",
       "      <td>pr</td>\n",
       "      <td>24</td>\n",
       "      <td>0.625000</td>\n",
       "    </tr>\n",
       "    <tr>\n",
       "      <th>721</th>\n",
       "      <td>pros</td>\n",
       "      <td>prtb</td>\n",
       "      <td>18</td>\n",
       "      <td>0.611111</td>\n",
       "    </tr>\n",
       "    <tr>\n",
       "      <th>717</th>\n",
       "      <td>pros</td>\n",
       "      <td>psc</td>\n",
       "      <td>24</td>\n",
       "      <td>0.583333</td>\n",
       "    </tr>\n",
       "    <tr>\n",
       "      <th>703</th>\n",
       "      <td>pros</td>\n",
       "      <td>pen</td>\n",
       "      <td>24</td>\n",
       "      <td>0.583333</td>\n",
       "    </tr>\n",
       "    <tr>\n",
       "      <th>505</th>\n",
       "      <td>pros</td>\n",
       "      <td>pmdb</td>\n",
       "      <td>24</td>\n",
       "      <td>0.583333</td>\n",
       "    </tr>\n",
       "    <tr>\n",
       "      <th>260</th>\n",
       "      <td>pros</td>\n",
       "      <td>ptb</td>\n",
       "      <td>24</td>\n",
       "      <td>0.583333</td>\n",
       "    </tr>\n",
       "    <tr>\n",
       "      <th>589</th>\n",
       "      <td>pros</td>\n",
       "      <td>pp</td>\n",
       "      <td>24</td>\n",
       "      <td>0.583333</td>\n",
       "    </tr>\n",
       "    <tr>\n",
       "      <th>709</th>\n",
       "      <td>pros</td>\n",
       "      <td>psdb</td>\n",
       "      <td>24</td>\n",
       "      <td>0.541667</td>\n",
       "    </tr>\n",
       "    <tr>\n",
       "      <th>731</th>\n",
       "      <td>pros</td>\n",
       "      <td>dem</td>\n",
       "      <td>24</td>\n",
       "      <td>0.500000</td>\n",
       "    </tr>\n",
       "    <tr>\n",
       "      <th>729</th>\n",
       "      <td>pros</td>\n",
       "      <td>solidaried</td>\n",
       "      <td>24</td>\n",
       "      <td>0.500000</td>\n",
       "    </tr>\n",
       "    <tr>\n",
       "      <th>723</th>\n",
       "      <td>pros</td>\n",
       "      <td>phs</td>\n",
       "      <td>24</td>\n",
       "      <td>0.500000</td>\n",
       "    </tr>\n",
       "    <tr>\n",
       "      <th>715</th>\n",
       "      <td>pros</td>\n",
       "      <td>psb</td>\n",
       "      <td>24</td>\n",
       "      <td>0.458333</td>\n",
       "    </tr>\n",
       "    <tr>\n",
       "      <th>313</th>\n",
       "      <td>pros</td>\n",
       "      <td>pps</td>\n",
       "      <td>24</td>\n",
       "      <td>0.416667</td>\n",
       "    </tr>\n",
       "    <tr>\n",
       "      <th>665</th>\n",
       "      <td>pros</td>\n",
       "      <td>pt</td>\n",
       "      <td>24</td>\n",
       "      <td>0.375000</td>\n",
       "    </tr>\n",
       "    <tr>\n",
       "      <th>628</th>\n",
       "      <td>pros</td>\n",
       "      <td>pv</td>\n",
       "      <td>24</td>\n",
       "      <td>0.375000</td>\n",
       "    </tr>\n",
       "    <tr>\n",
       "      <th>727</th>\n",
       "      <td>pros</td>\n",
       "      <td>pdt</td>\n",
       "      <td>24</td>\n",
       "      <td>0.375000</td>\n",
       "    </tr>\n",
       "    <tr>\n",
       "      <th>701</th>\n",
       "      <td>pros</td>\n",
       "      <td>pcdob</td>\n",
       "      <td>24</td>\n",
       "      <td>0.333333</td>\n",
       "    </tr>\n",
       "    <tr>\n",
       "      <th>705</th>\n",
       "      <td>pros</td>\n",
       "      <td>psol</td>\n",
       "      <td>24</td>\n",
       "      <td>0.208333</td>\n",
       "    </tr>\n",
       "    <tr>\n",
       "      <th>413</th>\n",
       "      <td>pros</td>\n",
       "      <td>pmb</td>\n",
       "      <td>4</td>\n",
       "      <td>0.000000</td>\n",
       "    </tr>\n",
       "    <tr>\n",
       "      <th>89</th>\n",
       "      <td>pros</td>\n",
       "      <td>rede</td>\n",
       "      <td>6</td>\n",
       "      <td>0.000000</td>\n",
       "    </tr>\n",
       "    <tr>\n",
       "      <th>733</th>\n",
       "      <td>pros</td>\n",
       "      <td>podemos</td>\n",
       "      <td>1</td>\n",
       "      <td>0.000000</td>\n",
       "    </tr>\n",
       "  </tbody>\n",
       "</table>\n",
       "</div>"
      ],
      "text/plain": [
       "    source      target  used     value\n",
       "700   pros        pros     1  1.000000\n",
       "725   pros      avante     1  1.000000\n",
       "148   pros         prb    24  0.666667\n",
       "713   pros         psl    24  0.666667\n",
       "711   pros       ptdob    23  0.652174\n",
       "364   pros         prp    20  0.650000\n",
       "28    pros         ptn    22  0.636364\n",
       "205   pros         ptc    19  0.631579\n",
       "460   pros         pmn    19  0.631579\n",
       "707   pros        psdc    19  0.631579\n",
       "719   pros         psd    24  0.625000\n",
       "548   pros          pr    24  0.625000\n",
       "721   pros        prtb    18  0.611111\n",
       "717   pros         psc    24  0.583333\n",
       "703   pros         pen    24  0.583333\n",
       "505   pros        pmdb    24  0.583333\n",
       "260   pros         ptb    24  0.583333\n",
       "589   pros          pp    24  0.583333\n",
       "709   pros        psdb    24  0.541667\n",
       "731   pros         dem    24  0.500000\n",
       "729   pros  solidaried    24  0.500000\n",
       "723   pros         phs    24  0.500000\n",
       "715   pros         psb    24  0.458333\n",
       "313   pros         pps    24  0.416667\n",
       "665   pros          pt    24  0.375000\n",
       "628   pros          pv    24  0.375000\n",
       "727   pros         pdt    24  0.375000\n",
       "701   pros       pcdob    24  0.333333\n",
       "705   pros        psol    24  0.208333\n",
       "413   pros         pmb     4  0.000000\n",
       "89    pros        rede     6  0.000000\n",
       "733   pros     podemos     1  0.000000"
      ]
     },
     "execution_count": 127,
     "metadata": {},
     "output_type": "execute_result"
    }
   ],
   "source": [
    "all_sim_df = pd.DataFrame(all_sim)\n",
    "all_sim_df[all_sim_df.source == \"pros\"].sort_values(by=\"value\", ascending=False)"
   ]
  },
  {
   "cell_type": "code",
   "execution_count": 100,
   "metadata": {
    "collapsed": false
   },
   "outputs": [
    {
     "data": {
      "text/plain": [
       "{u'pps', u'pros', u'psb', u'pv'}"
      ]
     },
     "execution_count": 100,
     "metadata": {},
     "output_type": "execute_result"
    }
   ],
   "source": [
    " set(all_sim_df[(all_sim_df.used >= 5)].source.drop_duplicates()) - set(all_sim_df[(all_sim_df.used >= 5) & (all_sim_df.value >= 0.75)].source.drop_duplicates())"
   ]
  },
  {
   "cell_type": "code",
   "execution_count": 101,
   "metadata": {
    "collapsed": false
   },
   "outputs": [
    {
     "data": {
      "text/plain": [
       "{u'avante', u'pmb', u'podemos'}"
      ]
     },
     "execution_count": 101,
     "metadata": {},
     "output_type": "execute_result"
    }
   ],
   "source": [
    "set(all_sim_df.source.drop_duplicates()) - set(all_sim_df[(all_sim_df.used >= 5)].source.drop_duplicates())"
   ]
  },
  {
   "cell_type": "code",
   "execution_count": 108,
   "metadata": {
    "collapsed": false
   },
   "outputs": [],
   "source": [
    "temp = all_sim_df[(all_sim_df.used >= 5) & (all_sim_df.value >= 0.75)]\n",
    "all_sim = temp.to_dict('records')\n",
    "parties = temp.source.drop_duplicates()\n",
    "parties_without_similarity =  set(all_sim_df[(all_sim_df.used >= 5)].source.drop_duplicates()) - \\\n",
    "set(all_sim_df[(all_sim_df.used >= 5) & (all_sim_df.value >= 0.75)].source.drop_duplicates())\n",
    "parties = list(parties) + list(parties_without_similarity)"
   ]
  },
  {
   "cell_type": "code",
   "execution_count": 109,
   "metadata": {
    "collapsed": false
   },
   "outputs": [
    {
     "data": {
      "text/plain": [
       "158"
      ]
     },
     "execution_count": 109,
     "metadata": {},
     "output_type": "execute_result"
    }
   ],
   "source": [
    "len(all_sim)"
   ]
  },
  {
   "cell_type": "code",
   "execution_count": 110,
   "metadata": {
    "collapsed": false
   },
   "outputs": [],
   "source": [
    "for i, s in enumerate(all_sim):\n",
    "    all_sim[i]['source'] = nodes_name_to_index[all_sim[i]['source']]\n",
    "    all_sim[i]['target'] = nodes_name_to_index[all_sim[i]['target']]"
   ]
  },
  {
   "cell_type": "code",
   "execution_count": 114,
   "metadata": {
    "collapsed": false
   },
   "outputs": [],
   "source": [
    "def get_group(party):\n",
    "    if party in [\"psol\", \"pt\", \"pdt\", \"pcdob\", \"rede\"]:\n",
    "        return \"red\"\n",
    "    elif party in [\"dem\", \"solidaried\", \"psdb\"]:\n",
    "        return \"blue\"\n",
    "    elif party in [\"ptn\", \"prp\", \"pmn\", \"prtb\", \"ptdob\", \"ptc\", \"psdc\"]:\n",
    "        return \"green\"\n",
    "    elif party in [\"prb\", \"psl\", \"pp\", \"ptb\", \"pmdb\", \"psd\", \"pen\", \"pr\", \"phs\", \"psc\"]:\n",
    "        return \"orange\"\n",
    "    else:\n",
    "        return \"black\"\n",
    "nodes = [{\"id\": n, \"group\": get_group(n)} for n in parties]\n",
    "nodes_name_to_index = {n['id']: i for i,n in enumerate(nodes)}\n",
    "\n",
    "    \n",
    "links = all_sim\n",
    "\n",
    "data = {\"nodes\": nodes,\n",
    "        \"links\": links}\n",
    "\n",
    "json.dump(data, open(\"analyses/data.json\", \"w\"))"
   ]
  },
  {
   "cell_type": "markdown",
   "metadata": {
    "collapsed": false
   },
   "source": [
    "# Compare parties and deputies"
   ]
  },
  {
   "cell_type": "code",
   "execution_count": 456,
   "metadata": {
    "collapsed": false
   },
   "outputs": [],
   "source": [
    "def json_to_df(votos, column_name, id_column):\n",
    "    all_props = []\n",
    "    for row in votos:\n",
    "        party_name = row[\"nome\"]\n",
    "        party_id = row[id_column]\n",
    "        propositions = row['temas']\n",
    "        for prop in propositions:\n",
    "            dict_prop = {column_name:party_name, \"id\":party_id}\n",
    "            dict_prop.update(prop)\n",
    "            all_props.append(dict_prop)\n",
    "    all_props = pd.DataFrame(all_props)\n",
    "    return all_props\n",
    "\n",
    "deputados_votos = json.load(open(\"data/deputados_votos_total.json\"))"
   ]
  },
  {
   "cell_type": "code",
   "execution_count": 457,
   "metadata": {
    "collapsed": false
   },
   "outputs": [],
   "source": [
    "new_deputies_info = pd.read_csv(\"data/deputados_info_by_api.csv\")\n",
    "new_names_parties = {r['old_name']: r['new_name'] for i, r in pd.read_csv(\"data/parties_new_names.csv\").iterrows()}\n",
    "new_deputies_info['siglaPartido'] = new_deputies_info.apply(lambda x: new_names_parties.get(str(x['siglaPartido']), x['siglaPartido']), axis=1)"
   ]
  },
  {
   "cell_type": "code",
   "execution_count": 458,
   "metadata": {
    "collapsed": true
   },
   "outputs": [],
   "source": [
    "deputies_props = json_to_df(deputados_votos, \"deputy_name\", \"id_dep\")\n",
    "deputies_props[\"id\"] = deputies_props[\"id\"].astype(int)\n",
    "# x = deputies_props[deputies_props.value_name == u\"não votou\"][[\"deputy_name\", \"value_name\"]].groupby(\"deputy_name\").count().reset_index()\n",
    "# deputies_low_votes = x[x.value_name > 20].deputy_name\n",
    "# deputies_props = deputies_props[~deputies_props.deputy_name.isin(deputies_low_votes)]\n",
    "\n",
    "props_by_deputy = deputies_props[[\"deputy_name\", \"tema\", \"value\"]].pivot(index=\"deputy_name\", columns='tema', values='value').to_dict('index')"
   ]
  },
  {
   "cell_type": "code",
   "execution_count": 459,
   "metadata": {
    "collapsed": false
   },
   "outputs": [],
   "source": [
    "deputy_party_df = pd.merge(deputies_props, new_deputies_info[[\"id\",\"nome\",\"siglaPartido\", \"siglaUf\"]], \n",
    "                           on=\"id\", how=\"left\")[[\"deputy_name\", \"siglaPartido\", \"siglaUf\"]].drop_duplicates([\"deputy_name\", \"siglaPartido\"])\n",
    "deputy_party_df['siglaPartido'] = deputy_party_df['siglaPartido'].apply(lambda x: x.lower())\n",
    "change = {\"pode\": \"podemos\", \"sd\": \"solidaried\"}\n",
    "deputy_party_df.siglaPartido = deputy_party_df.siglaPartido.apply(lambda x: change[x] if x in change else x)\n",
    "part_by_deputy = {d['deputy_name']: d['siglaPartido'] for index, d in deputy_party_df.iterrows()}"
   ]
  },
  {
   "cell_type": "code",
   "execution_count": 460,
   "metadata": {
    "collapsed": false
   },
   "outputs": [],
   "source": [
    "# pd.merge(deputies_props[deputies_props.deputy_name == u\"José Fogaça\"][[\"deputy_name\", \"value_name\", \"tema\"]],\n",
    "#          party_props[party_props.party_name == \"mdb\"][[\"id\", \"tema\", \"value_name\"]], on=\"tema\", how=\"left\")"
   ]
  },
  {
   "cell_type": "code",
   "execution_count": 461,
   "metadata": {
    "collapsed": false
   },
   "outputs": [],
   "source": [
    "partidos_votos = json.load(open(\"data/partidos_votos_total.json\"))\n",
    "party_props = json_to_df(partidos_votos, \"party_name\", \"nome\")\n",
    "props_by_party = party_props[[\"party_name\", \"tema\", \"value\"]].pivot(index=\"party_name\", columns='tema', values='value').to_dict('index')"
   ]
  },
  {
   "cell_type": "code",
   "execution_count": 462,
   "metadata": {
    "collapsed": false
   },
   "outputs": [],
   "source": [
    "no_vote_A = \"-1\"\n",
    "no_vote_B = \"-10\"\n",
    "ABSTENCAO = \"-2\"\n",
    "OBSTRUCAO = \"-3\"\n",
    "ARTIGO_17 = \"-4\"\n",
    "PARTY_LIBERADO = \"-1\"\n",
    "def calc_sim(propsA, propsB):\n",
    "    equals = 0\n",
    "    to_sum = 0\n",
    "    for prop, vA in propsA.iteritems():\n",
    "        vA = str(vA)\n",
    "        if vA in [no_vote_A, ABSTENCAO, ARTIGO_17]: #SÓ PASSA 0, 1, -3\n",
    "            continue\n",
    "        if vA == OBSTRUCAO: #SÓ PASSA 0, 1\n",
    "            vA = \"0\"\n",
    "        vB = str(propsB[prop])\n",
    "        if vB == no_vote_B: #SÓ PASSA 0, 1, -1\n",
    "            continue\n",
    "        if vB == PARTY_LIBERADO:\n",
    "            equals += 1\n",
    "            to_sum += 1\n",
    "        elif vA == vB and vA in [\"1\", \"0\"]:\n",
    "            equals +=1\n",
    "            to_sum+=1\n",
    "        else:\n",
    "            to_sum+=1\n",
    "            if vA not in [\"1\", \"0\"] and vB not in [\"1\", \"0\"]:\n",
    "                print(vA, vB)\n",
    "    if to_sum == 0:\n",
    "        return None, to_sum\n",
    "    else:\n",
    "        return equals / float(to_sum), to_sum\n",
    "assert calc_sim({\"a\": 1, \"b\": 0}, {\"a\": 1, \"b\": 0}) == (1, 2)\n",
    "assert calc_sim({\"a\": 1, \"b\": 0}, {\"a\": 1, \"b\": 1}) == (.5, 2)\n",
    "assert calc_sim({\"a\": 1, \"b\": 0}, {\"a\": 0, \"b\": 1}) == (0.0, 2)\n",
    "assert calc_sim({\"a\": 1, \"b\": 0}, {\"a\": 1, \"b\": no_vote_B}) == (1.0, 1)\n",
    "assert calc_sim({\"a\": 1, \"b\": 0}, {\"a\": no_vote_B, \"b\": no_vote_B}) == (None, 0)"
   ]
  },
  {
   "cell_type": "code",
   "execution_count": 463,
   "metadata": {
    "collapsed": false
   },
   "outputs": [
    {
     "name": "stdout",
     "output_type": "stream",
     "text": [
      "ppl Uldurico Junior\n"
     ]
    }
   ],
   "source": [
    "all_sim = []\n",
    "def get_key(partyA, partyB):\n",
    "    return \"{}_{}\".format(partyA, partyB)\n",
    "\n",
    "for deputy, props_deputy in props_by_deputy.iteritems():\n",
    "    party = part_by_deputy[deputy]\n",
    "    if party not in props_by_party:\n",
    "        print party, deputy\n",
    "        continue\n",
    "    props_party = props_by_party[party]\n",
    "    sim, used = calc_sim(props_deputy, props_party)\n",
    "        \n",
    "    all_sim.append({\"source\": deputy, \"target\": party, \"value\": sim, \"used\": used})"
   ]
  },
  {
   "cell_type": "code",
   "execution_count": 464,
   "metadata": {
    "collapsed": false
   },
   "outputs": [],
   "source": [
    "df = pd.DataFrame(all_sim)\n",
    "df.rename(columns={\"source\": \"deputado\", \"target\": \"partido\", \"used\": \"votacoes\", \"value\": \"similaridade\"}, inplace=True)\n",
    "df['similaridade'] = df['similaridade']*100\n",
    "df_merged = pd.merge(df, deputy_party_df[[\"deputy_name\", \"siglaUf\"]], left_on=\"deputado\", right_on=\"deputy_name\")"
   ]
  },
  {
   "cell_type": "code",
   "execution_count": 465,
   "metadata": {
    "collapsed": false
   },
   "outputs": [],
   "source": [
    "assert len(df_merged) == len(df)\n",
    "df = df_merged\n",
    "df = df.drop(\"deputy_name\", axis=1)\n",
    "df = df.rename(columns={\"siglaUf\":\"uf\", \"deputado\": \"nome\"})"
   ]
  },
  {
   "cell_type": "code",
   "execution_count": 466,
   "metadata": {
    "collapsed": false
   },
   "outputs": [],
   "source": [
    "json.dump(df[df.similaridade.notnull()].sort_values(by=\"similaridade\", ascending=False).to_dict(\"records\"), open(\"../../quemMeRepresenta/dados/deputado_partido_similaridade.json\", \"w\"))"
   ]
  },
  {
   "cell_type": "code",
   "execution_count": 467,
   "metadata": {
    "collapsed": false
   },
   "outputs": [],
   "source": [
    "limit = 85\n",
    "def separate_groups(x):\n",
    "    if x == 100:\n",
    "        return \"1_100\"\n",
    "    if x >= limit:\n",
    "        return \"2_limit\"\n",
    "    return \"3_all\"\n",
    "df[\"group\"] = df.similaridade.apply(separate_groups)"
   ]
  },
  {
   "cell_type": "code",
   "execution_count": 468,
   "metadata": {
    "collapsed": false
   },
   "outputs": [],
   "source": [
    "count_df = df[[\"group\", \"nome\"]].groupby(\"group\").count().reset_index()"
   ]
  },
  {
   "cell_type": "code",
   "execution_count": 469,
   "metadata": {
    "collapsed": true
   },
   "outputs": [],
   "source": [
    "count_df['cum_sum'] = count_df.nome.cumsum()"
   ]
  },
  {
   "cell_type": "code",
   "execution_count": 470,
   "metadata": {
    "collapsed": false
   },
   "outputs": [
    {
     "data": {
      "text/html": [
       "<div>\n",
       "<style scoped>\n",
       "    .dataframe tbody tr th:only-of-type {\n",
       "        vertical-align: middle;\n",
       "    }\n",
       "\n",
       "    .dataframe tbody tr th {\n",
       "        vertical-align: top;\n",
       "    }\n",
       "\n",
       "    .dataframe thead th {\n",
       "        text-align: right;\n",
       "    }\n",
       "</style>\n",
       "<table border=\"1\" class=\"dataframe\">\n",
       "  <thead>\n",
       "    <tr style=\"text-align: right;\">\n",
       "      <th></th>\n",
       "      <th>group</th>\n",
       "      <th>nome</th>\n",
       "      <th>cum_sum</th>\n",
       "      <th>porcent</th>\n",
       "    </tr>\n",
       "  </thead>\n",
       "  <tbody>\n",
       "    <tr>\n",
       "      <th>0</th>\n",
       "      <td>1_100</td>\n",
       "      <td>148</td>\n",
       "      <td>148</td>\n",
       "      <td>25.605536</td>\n",
       "    </tr>\n",
       "    <tr>\n",
       "      <th>1</th>\n",
       "      <td>2_limit</td>\n",
       "      <td>209</td>\n",
       "      <td>357</td>\n",
       "      <td>61.764706</td>\n",
       "    </tr>\n",
       "  </tbody>\n",
       "</table>\n",
       "</div>"
      ],
      "text/plain": [
       "     group  nome  cum_sum    porcent\n",
       "0    1_100   148      148  25.605536\n",
       "1  2_limit   209      357  61.764706"
      ]
     },
     "execution_count": 470,
     "metadata": {},
     "output_type": "execute_result"
    }
   ],
   "source": [
    "count_df[\"porcent\"] = count_df.cum_sum / count_df.cum_sum.max()\n",
    "count_df[\"porcent\"] = count_df[\"porcent\"]*100\n",
    "count_df = count_df.iloc[:2]\n",
    "count_df"
   ]
  },
  {
   "cell_type": "code",
   "execution_count": 471,
   "metadata": {
    "collapsed": false
   },
   "outputs": [
    {
     "data": {
      "image/png": "[encoded data removed]",
      "text/plain": [
       "<matplotlib.figure.Figure at 0x7fe89ab97fd0>"
      ]
     },
     "metadata": {},
     "output_type": "display_data"
    }
   ],
   "source": [
    "import matplotlib.pyplot as plt\n",
    "\n",
    "x = range(len(count_df))\n",
    "y = count_df.porcent\n",
    "fig = plt.figure(figsize=(10,8))\n",
    "ax = fig.add_subplot(111)\n",
    "ax.set_ylim(0,100)\n",
    "plt.bar(x, y, color = ['orangered', 'orange'], align=\"center\", width=0.3)\n",
    "plt.xticks(x, [u\"TODAS VOTAÇÕES\", u\"85% DAS VOTAÇÕES\"])\n",
    "plt.xlabel(u\"Votações iguais\")\n",
    "plt.ylabel(\"% dos deputados\")\n",
    "# plt.ylim(0,100)\n",
    "plt.title(u\"\"\"Porcentagem dos deputados que votaram igual a seu partido\"\"\")\n",
    "rects = ax.patches\n",
    "\n",
    "# Make some labels.\n",
    "labels = [\"{:.2f}%\".format(i) for i in y]\n",
    "\n",
    "for rect, label in zip(rects[:2], labels[:2]):\n",
    "    height = rect.get_height()\n",
    "    ax.text(rect.get_x() + rect.get_width() / 2, height, label,\n",
    "            ha='center', va='bottom')\n",
    "for item in ([ax.title, ax.xaxis.label, ax.yaxis.label] +  ax.texts +\n",
    "             ax.get_xticklabels() + ax.get_yticklabels()):\n",
    "    item.set_fontsize(18)\n",
    "\n",
    "# plt.show()\n",
    "plt.savefig(\"../../quemMeRepresenta/img/deputados_partidos.png\", dpi=None, facecolor='w', edgecolor='w',\n",
    "        orientation='portrait', papertype=None, format=None,\n",
    "        transparent=False, bbox_inches=None, pad_inches=0.1,\n",
    "        frameon=None)\n"
   ]
  },
  {
   "cell_type": "code",
   "execution_count": 230,
   "metadata": {
    "collapsed": false
   },
   "outputs": [],
   "source": [
    "# df = df.sort_values(by=\"similaridade\", ascending=False)\n",
    "# df[\"index\"] = range(0,len(df))\n",
    "# df[\"index\"] = (df[\"index\"] / len(df)) * 100\n",
    "\n",
    "# y_limit = 85\n",
    "# x_100 = int(df[df.similaridade < 100].iloc[0]['index'])\n",
    "# x_limit = int(df[df.similaridade < y_limit].iloc[0]['index'])\n",
    "\n",
    "# xs = sorted([x_100, x_limit, 50, 0, 100], reverse=True)\n",
    "\n",
    "# fig = plt.figure(figsize=(10,8))\n",
    "# ax = fig.add_subplot(111)\n",
    "# x = df.similaridade\n",
    "# y = df['index']\n",
    "# plt.plot(x, y)\n",
    "# # ax.fill_between(df['index'], 0,  df.similaridade, where=df.similaridade >= 85, facecolor='lightblue', interpolate=True)\n",
    "# # ax.fill_between(df['index'], 0,  df.similaridade, where=df.similaridade >= 100, facecolor='blue')\n",
    "# # plt.xticks(xs, map(lambda y: \"{}%\".format(y), xs))\n",
    "# # plt.annotate('{}% similar'.format(y_limit), xy=(x_limit, y_limit), \n",
    "# #              xytext=(x_limit, y_limit))\n",
    "# plt.xlabel(\"Porcentagem de deputados com pelo menos aquela similaridade\")\n",
    "# plt.ylabel(\"Similaridade com partido (0-100)\")\n",
    "# # plt.title(u\"\"\"26% dos deputados votaram igual ao seu partido em TODAS as votações \\n 62% votaram igual ao seu partido em pelo menos 85% das votações\"\"\")\n",
    "# # for item in ([ax.title, ax.xaxis.label, ax.yaxis.label] +\n",
    "# #              ax.get_xticklabels() + ax.get_yticklabels()):\n",
    "# #     item.set_fontsize(14)\n"
   ]
  }
 ],
 "metadata": {
  "kernelspec": {
   "display_name": "Python 2",
   "language": "python",
   "name": "python2"
  },
  "language_info": {
   "codemirror_mode": {
    "name": "ipython",
    "version": 2
   },
   "file_extension": ".py",
   "mimetype": "text/x-python",
   "name": "python",
   "nbconvert_exporter": "python",
   "pygments_lexer": "ipython2",
   "version": "2.7.12"
  }
 },
 "nbformat": 4,
 "nbformat_minor": 1
}
